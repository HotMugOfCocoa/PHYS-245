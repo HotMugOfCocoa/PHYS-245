{
 "cells": [
  {
   "attachments": {},
   "cell_type": "markdown",
   "metadata": {},
   "source": [
    "Importing files"
   ]
  },
  {
   "cell_type": "code",
   "execution_count": 1,
   "metadata": {},
   "outputs": [],
   "source": [
    "import numpy as np\n",
    "import pandas as pd\n",
    "\n",
    "file = 'Al alloy raw data T=1000s.csv'"
   ]
  },
  {
   "cell_type": "code",
   "execution_count": 3,
   "metadata": {},
   "outputs": [
    {
     "data": {
      "text/html": [
       "<div>\n",
       "<style scoped>\n",
       "    .dataframe tbody tr th:only-of-type {\n",
       "        vertical-align: middle;\n",
       "    }\n",
       "\n",
       "    .dataframe tbody tr th {\n",
       "        vertical-align: top;\n",
       "    }\n",
       "\n",
       "    .dataframe thead th {\n",
       "        text-align: right;\n",
       "    }\n",
       "</style>\n",
       "<table border=\"1\" class=\"dataframe\">\n",
       "  <thead>\n",
       "    <tr style=\"text-align: right;\">\n",
       "      <th></th>\n",
       "      <th>time (s)</th>\n",
       "      <th>reference</th>\n",
       "      <th>Peltier</th>\n",
       "      <th>x = 0.1cm</th>\n",
       "      <th>x = 2.1cm</th>\n",
       "      <th>x = 6.1cm</th>\n",
       "      <th>x = 14.1cm</th>\n",
       "      <th>x = 30.1cm</th>\n",
       "      <th>x = 62.2cm</th>\n",
       "    </tr>\n",
       "  </thead>\n",
       "  <tbody>\n",
       "    <tr>\n",
       "      <th>0</th>\n",
       "      <td>2</td>\n",
       "      <td>23.695</td>\n",
       "      <td>24.261</td>\n",
       "      <td>23.538</td>\n",
       "      <td>23.507</td>\n",
       "      <td>23.664</td>\n",
       "      <td>24.041</td>\n",
       "      <td>24.355</td>\n",
       "      <td>24.733</td>\n",
       "    </tr>\n",
       "    <tr>\n",
       "      <th>1</th>\n",
       "      <td>3</td>\n",
       "      <td>23.915</td>\n",
       "      <td>23.915</td>\n",
       "      <td>23.570</td>\n",
       "      <td>23.538</td>\n",
       "      <td>23.664</td>\n",
       "      <td>24.073</td>\n",
       "      <td>24.355</td>\n",
       "      <td>24.733</td>\n",
       "    </tr>\n",
       "    <tr>\n",
       "      <th>2</th>\n",
       "      <td>4</td>\n",
       "      <td>23.947</td>\n",
       "      <td>23.884</td>\n",
       "      <td>23.601</td>\n",
       "      <td>23.538</td>\n",
       "      <td>23.632</td>\n",
       "      <td>24.104</td>\n",
       "      <td>24.355</td>\n",
       "      <td>24.733</td>\n",
       "    </tr>\n",
       "    <tr>\n",
       "      <th>3</th>\n",
       "      <td>5</td>\n",
       "      <td>23.632</td>\n",
       "      <td>24.481</td>\n",
       "      <td>23.570</td>\n",
       "      <td>23.570</td>\n",
       "      <td>23.632</td>\n",
       "      <td>24.073</td>\n",
       "      <td>24.355</td>\n",
       "      <td>24.733</td>\n",
       "    </tr>\n",
       "    <tr>\n",
       "      <th>4</th>\n",
       "      <td>6</td>\n",
       "      <td>23.821</td>\n",
       "      <td>24.355</td>\n",
       "      <td>23.664</td>\n",
       "      <td>23.570</td>\n",
       "      <td>23.664</td>\n",
       "      <td>24.104</td>\n",
       "      <td>24.355</td>\n",
       "      <td>24.701</td>\n",
       "    </tr>\n",
       "  </tbody>\n",
       "</table>\n",
       "</div>"
      ],
      "text/plain": [
       "   time (s)  reference  Peltier  x = 0.1cm  x = 2.1cm  x = 6.1cm  x = 14.1cm  \\\n",
       "0         2     23.695   24.261     23.538     23.507     23.664      24.041   \n",
       "1         3     23.915   23.915     23.570     23.538     23.664      24.073   \n",
       "2         4     23.947   23.884     23.601     23.538     23.632      24.104   \n",
       "3         5     23.632   24.481     23.570     23.570     23.632      24.073   \n",
       "4         6     23.821   24.355     23.664     23.570     23.664      24.104   \n",
       "\n",
       "   x = 30.1cm  x = 62.2cm  \n",
       "0      24.355      24.733  \n",
       "1      24.355      24.733  \n",
       "2      24.355      24.733  \n",
       "3      24.355      24.733  \n",
       "4      24.355      24.701  "
      ]
     },
     "execution_count": 3,
     "metadata": {},
     "output_type": "execute_result"
    }
   ],
   "source": [
    "df = pd.read_csv(file)\n"
   ]
  }
 ],
 "metadata": {
  "kernelspec": {
   "display_name": "base",
   "language": "python",
   "name": "python3"
  },
  "language_info": {
   "codemirror_mode": {
    "name": "ipython",
    "version": 3
   },
   "file_extension": ".py",
   "mimetype": "text/x-python",
   "name": "python",
   "nbconvert_exporter": "python",
   "pygments_lexer": "ipython3",
   "version": "3.9.7"
  },
  "orig_nbformat": 4
 },
 "nbformat": 4,
 "nbformat_minor": 2
}
