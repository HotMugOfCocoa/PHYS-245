{
 "cells": [
  {
   "attachments": {},
   "cell_type": "markdown",
   "metadata": {},
   "source": [
    "# Assignment 2"
   ]
  },
  {
   "cell_type": "code",
   "execution_count": 72,
   "metadata": {},
   "outputs": [],
   "source": [
    "import pandas as pd\n",
    "import seaborn as sns\n",
    "import matplotlib.pyplot as plt\n",
    "import numpy as np\n",
    "import scipy as sc\n",
    "df = pd.read_csv(\"Dataframe.csv\")\n",
    "\n"
   ]
  },
  {
   "attachments": {},
   "cell_type": "markdown",
   "metadata": {},
   "source": [
    "## 1 "
   ]
  },
  {
   "attachments": {},
   "cell_type": "markdown",
   "metadata": {},
   "source": [
    "### a "
   ]
  },
  {
   "attachments": {},
   "cell_type": "markdown",
   "metadata": {},
   "source": [
    "Graphs on excel"
   ]
  },
  {
   "attachments": {},
   "cell_type": "markdown",
   "metadata": {},
   "source": [
    "### b"
   ]
  },
  {
   "attachments": {},
   "cell_type": "markdown",
   "metadata": {},
   "source": [
    "On excel"
   ]
  },
  {
   "attachments": {},
   "cell_type": "markdown",
   "metadata": {},
   "source": [
    "### c"
   ]
  },
  {
   "attachments": {},
   "cell_type": "markdown",
   "metadata": {},
   "source": [
    "We expect a linear relationship between $\\sqrt{I}$ and |V|. When $\\sqrt{I}$ $\\leq$ 0, the graph became unlinear and looked a bit funky. I believe this is just an error with the apparatus when dealing with currents $\\leq$ 0 and in the opposite direction. I removed these points to get a better linear fit"
   ]
  },
  {
   "attachments": {},
   "cell_type": "markdown",
   "metadata": {},
   "source": [
    "### d"
   ]
  },
  {
   "attachments": {},
   "cell_type": "markdown",
   "metadata": {},
   "source": [
    "From the labscript, we know that $\\\\ I(V)=\\alpha(V-V_{STOP})^2 \\\\$ This means that $\\\\ \\sqrt{I(V)}=\\alpha_1(V-V_{STOP})$ where $\\alpha_1 =\\sqrt{\\alpha} \\\\ \\alpha=hf/e$ where $h=6.62607...\\times10^{-34}$ and $e=1.602176634...\\times10^{-19}$"
   ]
  },
  {
   "cell_type": "code",
   "execution_count": 102,
   "metadata": {},
   "outputs": [
    {
     "name": "stdout",
     "output_type": "stream",
     "text": [
      "h/e = 4.135667696923859e-15\n",
      "Red =\n",
      "0.4312975855962118\n",
      "Green =\n",
      "0.8081815350299912\n",
      "Blue =\n",
      "1.377476454564235\n"
     ]
    },
    {
     "name": "stderr",
     "output_type": "stream",
     "text": [
      "c:\\Users\\CoeCl\\anaconda3\\lib\\site-packages\\seaborn\\_decorators.py:36: FutureWarning: Pass the following variables as keyword args: x, y. From version 0.12, the only valid positional argument will be `data`, and passing other arguments without an explicit keyword will result in an error or misinterpretation.\n",
      "  warnings.warn(\n"
     ]
    },
    {
     "data": {
      "image/png": "[encoded data removed]",
      "text/plain": [
       "<Figure size 640x480 with 1 Axes>"
      ]
     },
     "metadata": {},
     "output_type": "display_data"
    }
   ],
   "source": [
    "import scipy.constants as sc\n",
    "e=sc.elementary_charge\n",
    "h=sc.Planck\n",
    "c1 = h/e\n",
    "print(\"h/e =\",c1)\n",
    "StoppingVs = []\n",
    "frequencies = [635,515,405]\n",
    "def findStoppingVoltage(gradient,intercept):\n",
    "    ##SI = gradient*voltage+intercept\n",
    "    ##voltage=(SI-intercept)/gradient\n",
    "    voltageStop=-intercept/gradient\n",
    "\n",
    "    print(voltageStop)\n",
    "    StoppingVs.append(voltageStop)\n",
    "\n",
    "print(\"Red =\") \n",
    "findStoppingVoltage(-0.000583291,0.000251572)\n",
    "print(\"Green =\")\n",
    "findStoppingVoltage(-0.000597174,0.000482625)\n",
    "print(\"Blue =\")\n",
    "findStoppingVoltage(-0.000624431,0.000860139)\n"
   ]
  },
  {
   "attachments": {},
   "cell_type": "markdown",
   "metadata": {},
   "source": [
    "The stopping voltage occurs. By rearranging the line of best fit, we can estimate at what point we will have no current. This will be our stopping voltage"
   ]
  },
  {
   "attachments": {},
   "cell_type": "markdown",
   "metadata": {},
   "source": [
    "e"
   ]
  },
  {
   "attachments": {},
   "cell_type": "markdown",
   "metadata": {},
   "source": [
    "$V_{stop} = (h/e)f + (W_A/e)\\\\$ \n",
    "excel gives (h/e) = $3.53157148553592\\times^{-15}$\n",
    "and $(W_A/e) = -1.24156946020267$"
   ]
  },
  {
   "cell_type": "code",
   "execution_count": 143,
   "metadata": {},
   "outputs": [
    {
     "name": "stdout",
     "output_type": "stream",
     "text": [
      "h = 5.65820131542632e-34\n",
      "this is a decent estimate for our level of error in the experiment\n",
      "h_actual$ = 6.62607015e-34\n",
      "error = 14.606981403202923 %\n",
      "\n",
      "W_A = -1.9892135786247104e-19 J\n",
      "W_A = -1.24156946020267 eV\n"
     ]
    }
   ],
   "source": [
    "h = 3.53157148553592*10**(-15)*sc.elementary_charge\n",
    "print('h =',h)\n",
    "print('this is a decent estimate for our level of error in the experiment')\n",
    "print('h_actual$ =',sc.Planck)\n",
    "\n",
    "print('error = ' + str((sc.Planck-h)/sc.Planck*100) + \" %\")\n",
    "\n",
    "print(\"\")\n",
    "W_A = -1.24156946020267*sc.elementary_charge\n",
    "print(\"W_A = \" + str(W_A) + ' J')\n",
    "print(\"W_A = \" + str(-1.24156946020267) + ' eV') "
   ]
  },
  {
   "cell_type": "code",
   "execution_count": null,
   "metadata": {},
   "outputs": [],
   "source": []
  }
 ],
 "metadata": {
  "kernelspec": {
   "display_name": "base",
   "language": "python",
   "name": "python3"
  },
  "language_info": {
   "codemirror_mode": {
    "name": "ipython",
    "version": 3
   },
   "file_extension": ".py",
   "mimetype": "text/x-python",
   "name": "python",
   "nbconvert_exporter": "python",
   "pygments_lexer": "ipython3",
   "version": "3.9.13"
  },
  "orig_nbformat": 4
 },
 "nbformat": 4,
 "nbformat_minor": 2
}
